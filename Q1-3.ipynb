{
 "cells": [
  {
   "cell_type": "code",
   "execution_count": 1,
   "metadata": {
    "collapsed": true
   },
   "outputs": [],
   "source": [
    "# Q1. Write a for loop to print numbers 1 through 100 in ten rows."
   ]
  },
  {
   "cell_type": "code",
   "execution_count": 77,
   "metadata": {},
   "outputs": [
    {
     "name": "stdout",
     "output_type": "stream",
     "text": [
      "1 2 3 4 5 6 7 8 9 10\n",
      "11 12 13 14 15 16 17 18 19 20\n",
      "21 22 23 24 25 26 27 28 29 30\n",
      "31 32 33 34 35 36 37 38 39 40\n",
      "41 42 43 44 45 46 47 48 49 50\n",
      "51 52 53 54 55 56 57 58 59 60\n",
      "61 62 63 64 65 66 67 68 69 70\n",
      "71 72 73 74 75 76 77 78 79 80\n",
      "81 82 83 84 85 86 87 88 89 90\n",
      "91 92 93 94 95 96 97 98 99 100\n"
     ]
    }
   ],
   "source": [
    "x = range(1,101)\n",
    "x\n",
    "\n",
    "for i in x:\n",
    "    if i % 10 ==0:\n",
    "        print(i)\n",
    "    else:\n",
    "        print(i),  "
   ]
  },
  {
   "cell_type": "code",
   "execution_count": 78,
   "metadata": {},
   "outputs": [],
   "source": [
    "# Q2. Write a for loop to print first 100 even numbers. \n",
    "# Make sure the output is in 10 rows and format the output \n",
    "# so that all columns align perfectly."
   ]
  },
  {
   "cell_type": "code",
   "execution_count": 127,
   "metadata": {},
   "outputs": [
    {
     "name": "stdout",
     "output_type": "stream",
     "text": [
      "2 \t4 \t6 \t8 \t10 \t12 \t14 \t16 \t18 \t20\n",
      "22 \t24 \t26 \t28 \t30 \t32 \t34 \t36 \t38 \t40\n",
      "42 \t44 \t46 \t48 \t50 \t52 \t54 \t56 \t58 \t60\n",
      "62 \t64 \t66 \t68 \t70 \t72 \t74 \t76 \t78 \t80\n",
      "82 \t84 \t86 \t88 \t90 \t92 \t94 \t96 \t98 \t100\n",
      "102 \t104 \t106 \t108 \t110 \t112 \t114 \t116 \t118 \t120\n",
      "122 \t124 \t126 \t128 \t130 \t132 \t134 \t136 \t138 \t140\n",
      "142 \t144 \t146 \t148 \t150 \t152 \t154 \t156 \t158 \t160\n",
      "162 \t164 \t166 \t168 \t170 \t172 \t174 \t176 \t178 \t180\n",
      "182 \t184 \t186 \t188 \t190 \t192 \t194 \t196 \t198 \t200\n"
     ]
    }
   ],
   "source": [
    "x = range(2,201,2)\n",
    "x\n",
    "len(x)\n",
    "\n",
    "for i in x:\n",
    "    if i == 0:\n",
    "        print(i),\n",
    "        print(\"\\t\"),\n",
    "    elif i % 20 == 0:\n",
    "        print(i)\n",
    "    else:\n",
    "        print(i),\n",
    "        print(\"\\t\"),"
   ]
  },
  {
   "cell_type": "code",
   "execution_count": null,
   "metadata": {},
   "outputs": [],
   "source": [
    "# Q3. Write a function isPrime(n), that returns a True if n is a prime number, if not False."
   ]
  },
  {
   "cell_type": "code",
   "execution_count": 134,
   "metadata": {},
   "outputs": [
    {
     "data": {
      "text/plain": [
       "'True'"
      ]
     },
     "execution_count": 134,
     "metadata": {},
     "output_type": "execute_result"
    }
   ],
   "source": [
    "def isPrime(n):\n",
    "    if n > 1:\n",
    "        for i in range(2, n):\n",
    "            if (n % i ==0):\n",
    "                return(\"False\")\n",
    "            else:\n",
    "                return(\"True\")"
   ]
  },
  {
   "cell_type": "code",
   "execution_count": 135,
   "metadata": {},
   "outputs": [
    {
     "data": {
      "text/plain": [
       "'True'"
      ]
     },
     "execution_count": 135,
     "metadata": {},
     "output_type": "execute_result"
    }
   ],
   "source": [
    "isPrime(9)"
   ]
  },
  {
   "cell_type": "code",
   "execution_count": 140,
   "metadata": {},
   "outputs": [
    {
     "data": {
      "text/plain": [
       "'True'"
      ]
     },
     "execution_count": 140,
     "metadata": {},
     "output_type": "execute_result"
    }
   ],
   "source": [
    "isPrime(11)"
   ]
  },
  {
   "cell_type": "code",
   "execution_count": null,
   "metadata": {
    "collapsed": true
   },
   "outputs": [],
   "source": []
  }
 ],
 "metadata": {
  "kernelspec": {
   "display_name": "Python 2",
   "language": "python",
   "name": "python2"
  },
  "language_info": {
   "codemirror_mode": {
    "name": "ipython",
    "version": 2
   },
   "file_extension": ".py",
   "mimetype": "text/x-python",
   "name": "python",
   "nbconvert_exporter": "python",
   "pygments_lexer": "ipython2",
   "version": "2.7.13"
  }
 },
 "nbformat": 4,
 "nbformat_minor": 2
}
