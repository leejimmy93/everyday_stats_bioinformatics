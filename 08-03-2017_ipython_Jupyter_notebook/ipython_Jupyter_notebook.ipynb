{
 "cells": [
  {
   "cell_type": "code",
   "execution_count": null,
   "metadata": {
    "collapsed": true
   },
   "outputs": [],
   "source": []
  },
  {
   "cell_type": "code",
   "execution_count": 3,
   "metadata": {},
   "outputs": [
    {
     "name": "stdout",
     "output_type": "stream",
     "text": [
      "1) installed ipython using pip install ipython\n"
     ]
    }
   ],
   "source": [
    "print(\"1) installed ipython using pip install ipython\")\n"
   ]
  },
  {
   "cell_type": "code",
   "execution_count": 4,
   "metadata": {},
   "outputs": [
    {
     "name": "stdout",
     "output_type": "stream",
     "text": [
      "2) installed Anaconda\n"
     ]
    }
   ],
   "source": [
    "print(\"2) installed Anaconda\")"
   ]
  },
  {
   "cell_type": "code",
   "execution_count": 7,
   "metadata": {},
   "outputs": [
    {
     "name": "stdout",
     "output_type": "stream",
     "text": [
      "3) accessed jupyter notebook/ipython notebook through Anaconda navigator\n"
     ]
    }
   ],
   "source": [
    "print(\"3) accessed jupyter notebook/ipython notebook through Anaconda navigator\")"
   ]
  },
  {
   "cell_type": "code",
   "execution_count": 6,
   "metadata": {},
   "outputs": [
    {
     "name": "stdout",
     "output_type": "stream",
     "text": [
      "It is an interactive computational environment, in which you can combine code execution, rich text, mathematics, plots and rich media. \n"
     ]
    }
   ],
   "source": [
    "print(\"Jupytet/ipython notebook is an interactive computational environment, in which you can combine code execution, rich text, mathematics, plots and rich media. \")"
   ]
  },
  {
   "cell_type": "code",
   "execution_count": null,
   "metadata": {
    "collapsed": true
   },
   "outputs": [],
   "source": []
  }
 ],
 "metadata": {
  "kernelspec": {
   "display_name": "Python 2",
   "language": "python",
   "name": "python2"
  },
  "language_info": {
   "codemirror_mode": {
    "name": "ipython",
    "version": 2
   },
   "file_extension": ".py",
   "mimetype": "text/x-python",
   "name": "python",
   "nbconvert_exporter": "python",
   "pygments_lexer": "ipython2",
   "version": "2.7.13"
  }
 },
 "nbformat": 4,
 "nbformat_minor": 2
}
