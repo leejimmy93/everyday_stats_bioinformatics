{
 "cells": [
  {
   "cell_type": "code",
   "execution_count": 2,
   "metadata": {},
   "outputs": [],
   "source": [
    "# 1) Excel sheet column title \n",
    "# Related to question Excel Sheet Column Title\n",
    "\n",
    "# Given a column title as appear in an Excel sheet, return its corresponding column number.\n",
    "\n",
    "# For example:\n",
    "\n",
    "#    A -> 1\n",
    "#    B -> 2\n",
    "#    C -> 3\n",
    "#    ...\n",
    "#    Z -> 26\n",
    "#    AA -> 27\n",
    "#    AB -> 28 "
   ]
  },
  {
   "cell_type": "code",
   "execution_count": 3,
   "metadata": {
    "collapsed": true
   },
   "outputs": [],
   "source": [
    "class Solution(object):\n",
    "    def titleToNumber(self, s):\n",
    "        \"\"\"\n",
    "        :type s: str\n",
    "        :rtype: int\n",
    "        \"\"\"\n",
    "        str1 = (\"ABCDEFGHIJKLMNOPQRSTUVWXYZ\")\n",
    "        res = 0\n",
    "        for i in s:\n",
    "            res = 26 * res + str1.index(i) + 1 # smart... \n",
    "            \n",
    "        return res"
   ]
  },
  {
   "cell_type": "code",
   "execution_count": 4,
   "metadata": {
    "collapsed": true
   },
   "outputs": [],
   "source": [
    "# 2)  Range Addition II\n",
    "# Given an m * n matrix M initialized with all 0's and several update operations.\n",
    "\n",
    "# Operations are represented by a 2D array, and each operation is represented by an array with two positive integers a and b, which means M[i][j] should be added by one for all 0 <= i < a and 0 <= j < b.\n",
    "\n",
    "# You need to count and return the number of maximum integers in the matrix after performing all the operations.\n",
    "\n",
    "# Example 1:\n",
    "# Input: \n",
    "# m = 3, n = 3\n",
    "# operations = [[2,2],[3,3]]\n",
    "# Output: 4\n",
    "# Explanation: \n",
    "# Initially, M = \n",
    "# [[0, 0, 0],\n",
    "#  [0, 0, 0],\n",
    "#  [0, 0, 0]]\n",
    "\n",
    "# After performing [2,2], M = \n",
    "# [[1, 1, 0],\n",
    "#  [1, 1, 0],\n",
    "#  [0, 0, 0]]\n",
    "\n",
    "# After performing [3,3], M = \n",
    "# [[2, 2, 1],\n",
    "#  [2, 2, 1],\n",
    "#  [1, 1, 1]]\n",
    "\n",
    "# So the maximum integer in M is 2, and there are four of it in M. So return 4.\n",
    "# Note:\n",
    "# The range of m and n is [1,40000].\n",
    "# The range of a is [1,m], and the range of b is [1,n].\n",
    "# The range of operations size won't exceed 10,000."
   ]
  },
  {
   "cell_type": "code",
   "execution_count": 5,
   "metadata": {
    "collapsed": true
   },
   "outputs": [],
   "source": [
    "class Solution(object):\n",
    "    def maxCount(self, m, n, ops):\n",
    "        \"\"\"\n",
    "        :type m: int\n",
    "        :type n: int\n",
    "        :type ops: List[List[int]]\n",
    "        :rtype: int\n",
    "        \"\"\"\n",
    "        if not ops:\n",
    "            return m*n # if ops is not provided, returns m*n\n",
    "        return min(op[0] for op in ops)*min(op[0] for op in ops) \n",
    "# for list within list, the way to extract single element... smart... Also use brain here"
   ]
  },
  {
   "cell_type": "code",
   "execution_count": 6,
   "metadata": {
    "collapsed": true
   },
   "outputs": [],
   "source": [
    "# Max Consecutive Ones \n",
    "# Given a binary array, find the maximum number of consecutive 1s in this array.\n",
    "\n",
    "# Example 1:\n",
    "# Input: [1,1,0,1,1,1]\n",
    "# Output: 3\n",
    "# Explanation: The first two digits or the last three digits are consecutive 1s.\n",
    "#     The maximum number of consecutive 1s is 3.\n",
    "# Note:\n",
    "\n",
    "# The input array will only contain 0 and 1.\n",
    "# The length of input array is a positive integer and will not exceed 10,000"
   ]
  },
  {
   "cell_type": "code",
   "execution_count": 7,
   "metadata": {
    "collapsed": true
   },
   "outputs": [],
   "source": [
    "class Solution(object):\n",
    "    def findMaxConsecutiveOnes(self, nums):\n",
    "        \"\"\"\n",
    "        :type nums: List[int]\n",
    "        :rtype: int\n",
    "        \"\"\"\n",
    "        cnt = 0\n",
    "        ans = 0\n",
    "        for num in nums:\n",
    "            if num == 1:\n",
    "                cnt += 1 # this step very important \n",
    "                ans = max(ans, cnt) # this step \n",
    "            else:\n",
    "                cnt = 0 # this step \n",
    "        return ans"
   ]
  },
  {
   "cell_type": "code",
   "execution_count": null,
   "metadata": {
    "collapsed": true
   },
   "outputs": [],
   "source": []
  }
 ],
 "metadata": {
  "kernelspec": {
   "display_name": "Python 2",
   "language": "python",
   "name": "python2"
  },
  "language_info": {
   "codemirror_mode": {
    "name": "ipython",
    "version": 2
   },
   "file_extension": ".py",
   "mimetype": "text/x-python",
   "name": "python",
   "nbconvert_exporter": "python",
   "pygments_lexer": "ipython2",
   "version": "2.7.13"
  }
 },
 "nbformat": 4,
 "nbformat_minor": 2
}
