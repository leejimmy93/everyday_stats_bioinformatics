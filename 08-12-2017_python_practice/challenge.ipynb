{
 "cells": [
  {
   "cell_type": "code",
   "execution_count": 2,
   "metadata": {
    "collapsed": true
   },
   "outputs": [],
   "source": [
    "# mini challenge 1 "
   ]
  },
  {
   "cell_type": "code",
   "execution_count": 154,
   "metadata": {},
   "outputs": [],
   "source": [
    "def countChars(*args):\n",
    "    output = {}\n",
    "    \n",
    "    for i in args:\n",
    "        args_join = ''.join(args)\n",
    "        args_upper = args_join.upper()\n",
    "        for i in args_upper:\n",
    "            output[i] = args_upper.count(i)\n",
    "        \n",
    "        return(output)"
   ]
  },
  {
   "cell_type": "code",
   "execution_count": 152,
   "metadata": {},
   "outputs": [
    {
     "name": "stdout",
     "output_type": "stream",
     "text": [
      "({'A': 3, 'C': 1, 'E': 1, 'G': 1, 'I': 1, 'H': 2, 'K': 1, 'J': 1, 'L': 1, 'O': 1, 'N': 1, 'S': 1, 'R': 2, 'T': 1, 'Y': 2, 'X': 1},)\n"
     ]
    },
    {
     "data": {
      "text/plain": [
       "dict"
      ]
     },
     "execution_count": 152,
     "metadata": {},
     "output_type": "execute_result"
    }
   ],
   "source": [
    "test = countChars(\"Gary\", \"Kris\", \"Cathy\", \"John\", \"Alex\")\n",
    "print(test,)\n",
    "type(test)"
   ]
  },
  {
   "cell_type": "code",
   "execution_count": 75,
   "metadata": {},
   "outputs": [],
   "source": [
    "# mini Challenge 2 "
   ]
  },
  {
   "cell_type": "code",
   "execution_count": 136,
   "metadata": {},
   "outputs": [
    {
     "name": "stdout",
     "output_type": "stream",
     "text": [
      "[5, 7, 9, 11, 13, 15, 17, 19, 21, 23, 25, 27, 29]\n"
     ]
    }
   ],
   "source": [
    "def myRange(*args): \n",
    "    \n",
    "    \"\"\" My Range Function \"\"\"\n",
    "    start = stop = step = 0 \n",
    "    if( len(args) == 3):\n",
    "        start = args[0] \n",
    "        stop = args[1] \n",
    "        step = args[2]\n",
    "    \n",
    "    elif( len(args) == 2): \n",
    "        start = args[0]\n",
    "        stop = args[1] \n",
    "        step = 1\n",
    "    \n",
    "    else:\n",
    "        start = 0\n",
    "        stop = args[0] \n",
    "        step = 1\n",
    "    \n",
    "    i = start\n",
    "    while( i < stop ):\n",
    "        yield i\n",
    "        i = i + step\n",
    "    \n",
    "A = myRange(5,30, 2 )\n",
    "print(list(A))\n",
    "   "
   ]
  },
  {
   "cell_type": "code",
   "execution_count": 137,
   "metadata": {},
   "outputs": [
    {
     "name": "stdout",
     "output_type": "stream",
     "text": [
      "[5, 6, 7, 8, 9, 10, 11, 12, 13, 14, 15, 16, 17, 18, 19, 20, 21, 22, 23, 24, 25, 26, 27, 28, 29]\n"
     ]
    }
   ],
   "source": [
    "R = myRange(5, 30 )\n",
    "print( list(R) ) "
   ]
  },
  {
   "cell_type": "code",
   "execution_count": null,
   "metadata": {},
   "outputs": [],
   "source": []
  },
  {
   "cell_type": "code",
   "execution_count": null,
   "metadata": {},
   "outputs": [],
   "source": []
  },
  {
   "cell_type": "code",
   "execution_count": null,
   "metadata": {
    "collapsed": true
   },
   "outputs": [],
   "source": []
  },
  {
   "cell_type": "code",
   "execution_count": null,
   "metadata": {
    "collapsed": true
   },
   "outputs": [],
   "source": []
  }
 ],
 "metadata": {
  "kernelspec": {
   "display_name": "Python 2",
   "language": "python",
   "name": "python2"
  },
  "language_info": {
   "codemirror_mode": {
    "name": "ipython",
    "version": 2
   },
   "file_extension": ".py",
   "mimetype": "text/x-python",
   "name": "python",
   "nbconvert_exporter": "python",
   "pygments_lexer": "ipython2",
   "version": "2.7.13"
  }
 },
 "nbformat": 4,
 "nbformat_minor": 2
}
