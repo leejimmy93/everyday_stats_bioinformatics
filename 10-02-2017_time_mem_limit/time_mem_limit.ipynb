{
 "cells": [
  {
   "cell_type": "code",
   "execution_count": 2,
   "metadata": {},
   "outputs": [],
   "source": [
    "# https://leetcode.com/problems/remove-element/description/\n",
    "# https://leetcode.com/problems/assign-cookies/description/\n",
    "# https://leetcode.com/problems/longest-continuous-increasing-subsequence/description/\n",
    "# https://leetcode.com/problems/best-time-to-buy-and-sell-stock/description/\n",
    "# https://leetcode.com/problems/longest-harmonious-subsequence/description/\n",
    "# https://leetcode.com/problems/longest-harmonious-subsequence/discuss/\n",
    "# https://leetcode.com/problems/maximum-subarray/description/"
   ]
  },
  {
   "cell_type": "code",
   "execution_count": 3,
   "metadata": {
    "collapsed": true
   },
   "outputs": [],
   "source": [
    "#  The above are a bunch of python problems that I have o[N] and o[1] problem\n",
    "# check subarray problem... "
   ]
  },
  {
   "cell_type": "code",
   "execution_count": null,
   "metadata": {
    "collapsed": true
   },
   "outputs": [],
   "source": []
  }
 ],
 "metadata": {
  "kernelspec": {
   "display_name": "Python 2",
   "language": "python",
   "name": "python2"
  },
  "language_info": {
   "codemirror_mode": {
    "name": "ipython",
    "version": 2
   },
   "file_extension": ".py",
   "mimetype": "text/x-python",
   "name": "python",
   "nbconvert_exporter": "python",
   "pygments_lexer": "ipython2",
   "version": "2.7.13"
  }
 },
 "nbformat": 4,
 "nbformat_minor": 2
}
