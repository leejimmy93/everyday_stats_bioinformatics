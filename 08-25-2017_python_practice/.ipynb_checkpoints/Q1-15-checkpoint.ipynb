{
 "cells": [
  {
   "cell_type": "code",
   "execution_count": 1,
   "metadata": {
    "collapsed": true
   },
   "outputs": [],
   "source": [
    "# Q1. Write a for loop to print numbers 1 through 100 in ten rows."
   ]
  },
  {
   "cell_type": "code",
   "execution_count": 77,
   "metadata": {},
   "outputs": [
    {
     "name": "stdout",
     "output_type": "stream",
     "text": [
      "1 2 3 4 5 6 7 8 9 10\n",
      "11 12 13 14 15 16 17 18 19 20\n",
      "21 22 23 24 25 26 27 28 29 30\n",
      "31 32 33 34 35 36 37 38 39 40\n",
      "41 42 43 44 45 46 47 48 49 50\n",
      "51 52 53 54 55 56 57 58 59 60\n",
      "61 62 63 64 65 66 67 68 69 70\n",
      "71 72 73 74 75 76 77 78 79 80\n",
      "81 82 83 84 85 86 87 88 89 90\n",
      "91 92 93 94 95 96 97 98 99 100\n"
     ]
    }
   ],
   "source": [
    "x = range(1,101)\n",
    "x\n",
    "\n",
    "for i in x:\n",
    "    if i % 10 ==0:\n",
    "        print(i)\n",
    "    else:\n",
    "        print(i),  "
   ]
  },
  {
   "cell_type": "code",
   "execution_count": 78,
   "metadata": {
    "collapsed": true
   },
   "outputs": [],
   "source": [
    "# Q2. Write a for loop to print first 100 even numbers. \n",
    "# Make sure the output is in 10 rows and format the output \n",
    "# so that all columns align perfectly."
   ]
  },
  {
   "cell_type": "code",
   "execution_count": 127,
   "metadata": {},
   "outputs": [
    {
     "name": "stdout",
     "output_type": "stream",
     "text": [
      "2 \t4 \t6 \t8 \t10 \t12 \t14 \t16 \t18 \t20\n",
      "22 \t24 \t26 \t28 \t30 \t32 \t34 \t36 \t38 \t40\n",
      "42 \t44 \t46 \t48 \t50 \t52 \t54 \t56 \t58 \t60\n",
      "62 \t64 \t66 \t68 \t70 \t72 \t74 \t76 \t78 \t80\n",
      "82 \t84 \t86 \t88 \t90 \t92 \t94 \t96 \t98 \t100\n",
      "102 \t104 \t106 \t108 \t110 \t112 \t114 \t116 \t118 \t120\n",
      "122 \t124 \t126 \t128 \t130 \t132 \t134 \t136 \t138 \t140\n",
      "142 \t144 \t146 \t148 \t150 \t152 \t154 \t156 \t158 \t160\n",
      "162 \t164 \t166 \t168 \t170 \t172 \t174 \t176 \t178 \t180\n",
      "182 \t184 \t186 \t188 \t190 \t192 \t194 \t196 \t198 \t200\n"
     ]
    }
   ],
   "source": [
    "x = range(2,201,2)\n",
    "x\n",
    "len(x)\n",
    "\n",
    "for i in x:\n",
    "    if i == 0:\n",
    "        print(i),\n",
    "        print(\"\\t\"),\n",
    "    elif i % 20 == 0:\n",
    "        print(i)\n",
    "    else:\n",
    "        print(i),\n",
    "        print(\"\\t\"),"
   ]
  },
  {
   "cell_type": "code",
   "execution_count": null,
   "metadata": {
    "collapsed": true
   },
   "outputs": [],
   "source": [
    "# Q3. Write a function isPrime(n), that returns a True if n is a prime number, if not False."
   ]
  },
  {
   "cell_type": "code",
   "execution_count": 168,
   "metadata": {
    "collapsed": true
   },
   "outputs": [],
   "source": [
    "def isPrime(n):\n",
    "    if n == 1:\n",
    "        return False\n",
    "    else:\n",
    "        for i in range(2, n):\n",
    "            if n % i ==0:\n",
    "                return False\n",
    "        else:\n",
    "            return True # indentation matters "
   ]
  },
  {
   "cell_type": "code",
   "execution_count": 171,
   "metadata": {},
   "outputs": [
    {
     "data": {
      "text/plain": [
       "True"
      ]
     },
     "execution_count": 171,
     "metadata": {},
     "output_type": "execute_result"
    }
   ],
   "source": [
    "isPrime(7)"
   ]
  },
  {
   "cell_type": "code",
   "execution_count": 170,
   "metadata": {},
   "outputs": [
    {
     "data": {
      "text/plain": [
       "False"
      ]
     },
     "execution_count": 170,
     "metadata": {},
     "output_type": "execute_result"
    }
   ],
   "source": [
    "isPrime(215)"
   ]
  },
  {
   "cell_type": "code",
   "execution_count": 15,
   "metadata": {
    "collapsed": true
   },
   "outputs": [],
   "source": [
    "# Q4 Write a for loop to print Prime numbers between 1 and 1000. \n",
    "# Format the output so that all columns align perfectly."
   ]
  },
  {
   "cell_type": "code",
   "execution_count": 190,
   "metadata": {},
   "outputs": [
    {
     "name": "stdout",
     "output_type": "stream",
     "text": [
      "2 \t3 \t5 \t7 \t11 \t13 \t17 \t19 \t23 \t29 \t31 \t37 \t41 \t43 \t47 \t53 \t59 \t61 \t67 \t71 \t73 \t79 \t83 \t89 \t97 \t101 \t103 \t107 \t109 \t113 \t127 \t131 \t137 \t139 \t149 \t151 \t157 \t163 \t167 \t173 \t179 \t181 \t191 \t193 \t197 \t199 \t211 \t223 \t227 \t229 \t233 \t239 \t241 \t251 \t257 \t263 \t269 \t271 \t277 \t281 \t283 \t293 \t307 \t311 \t313 \t317 \t331 \t337 \t347 \t349 \t353 \t359 \t367 \t373 \t379 \t383 \t389 \t397 \t401 \t409 \t419 \t421 \t431 \t433 \t439 \t443 \t449 \t457 \t461 \t463 \t467 \t479 \t487 \t491 \t499 \t503 \t509 \t521 \t523 \t541 \t547 \t557 \t563 \t569 \t571 \t577 \t587 \t593 \t599 \t601 \t607 \t613 \t617 \t619 \t631 \t641 \t643 \t647 \t653 \t659 \t661 \t673 \t677 \t683 \t691 \t701 \t709 \t719 \t727 \t733 \t739 \t743 \t751 \t757 \t761 \t769 \t773 \t787 \t797 \t809 \t811 \t821 \t823 \t827 \t829 \t839 \t853 \t857 \t859 \t863 \t877 \t881 \t883 \t887 \t907 \t911 \t919 \t929 \t937 \t941 \t947 \t953 \t967 \t971 \t977 \t983 \t991 \t997 \t"
     ]
    }
   ],
   "source": [
    "for n in range(1, 1000):\n",
    "    if n > 1:\n",
    "        for i in range(2, n):\n",
    "            if (n % i == 0):\n",
    "                break\n",
    "        else: # note how \"else\" is indented... \n",
    "            print(n),\n",
    "            print(\"\\t\"), # why 2 is not aligned? "
   ]
  },
  {
   "cell_type": "code",
   "execution_count": 60,
   "metadata": {
    "collapsed": true
   },
   "outputs": [],
   "source": [
    "#Q5 Write a function to convert temperature in celsius to fahrenheit"
   ]
  },
  {
   "cell_type": "code",
   "execution_count": 65,
   "metadata": {
    "collapsed": true
   },
   "outputs": [],
   "source": [
    "def cel2fah(celsius):\n",
    "    fahrenheit = (celsius * 1.8) + 32\n",
    "    return fahrenheit"
   ]
  },
  {
   "cell_type": "code",
   "execution_count": 66,
   "metadata": {},
   "outputs": [
    {
     "data": {
      "text/plain": [
       "32.0"
      ]
     },
     "execution_count": 66,
     "metadata": {},
     "output_type": "execute_result"
    }
   ],
   "source": [
    "cel2fah(0)"
   ]
  },
  {
   "cell_type": "code",
   "execution_count": 67,
   "metadata": {},
   "outputs": [
    {
     "data": {
      "text/plain": [
       "68.0"
      ]
     },
     "execution_count": 67,
     "metadata": {},
     "output_type": "execute_result"
    }
   ],
   "source": [
    "cel2fah(20)"
   ]
  },
  {
   "cell_type": "code",
   "execution_count": 68,
   "metadata": {
    "collapsed": true
   },
   "outputs": [],
   "source": [
    "# Q6. Write a function to convert temperature in fahrenheit to celsius ( Q5 Reverse )"
   ]
  },
  {
   "cell_type": "code",
   "execution_count": 70,
   "metadata": {
    "collapsed": true
   },
   "outputs": [],
   "source": [
    "def fah2cel(fahrenheit):\n",
    "    celsius = (fahrenheit - 32)/1.8\n",
    "    return celsius"
   ]
  },
  {
   "cell_type": "code",
   "execution_count": 71,
   "metadata": {},
   "outputs": [
    {
     "data": {
      "text/plain": [
       "20.0"
      ]
     },
     "execution_count": 71,
     "metadata": {},
     "output_type": "execute_result"
    }
   ],
   "source": [
    "fah2cel(68)"
   ]
  },
  {
   "cell_type": "code",
   "execution_count": 72,
   "metadata": {},
   "outputs": [
    {
     "data": {
      "text/plain": [
       "0.0"
      ]
     },
     "execution_count": 72,
     "metadata": {},
     "output_type": "execute_result"
    }
   ],
   "source": [
    "fah2cel(32)"
   ]
  },
  {
   "cell_type": "code",
   "execution_count": 73,
   "metadata": {},
   "outputs": [
    {
     "data": {
      "text/plain": [
       "100.0"
      ]
     },
     "execution_count": 73,
     "metadata": {},
     "output_type": "execute_result"
    }
   ],
   "source": [
    "fah2cel(212)"
   ]
  },
  {
   "cell_type": "code",
   "execution_count": 74,
   "metadata": {
    "collapsed": true
   },
   "outputs": [],
   "source": [
    "#Q7. Convert the following list of Kilometers to miles."
   ]
  },
  {
   "cell_type": "code",
   "execution_count": 80,
   "metadata": {},
   "outputs": [
    {
     "name": "stdout",
     "output_type": "stream",
     "text": [
      "10 kilometer is equal to 6.21371 miles\n",
      "20 kilometer is equal to 12.42742 miles\n",
      "30 kilometer is equal to 18.64113 miles\n",
      "40 kilometer is equal to 24.85484 miles\n",
      "50 kilometer is equal to 31.06855 miles\n"
     ]
    }
   ],
   "source": [
    "x = [ 10, 20, 30, 40, 50 ]\n",
    "for i in x:\n",
    "    print(i),\n",
    "    print(\"kilometer is equal to\"),\n",
    "    print(i*0.621371),\n",
    "    print(\"miles\")"
   ]
  },
  {
   "cell_type": "code",
   "execution_count": 81,
   "metadata": {
    "collapsed": true
   },
   "outputs": [],
   "source": [
    "# Q8. Write factorial function fact(n) without using recurrsion."
   ]
  },
  {
   "cell_type": "code",
   "execution_count": 88,
   "metadata": {
    "collapsed": true
   },
   "outputs": [],
   "source": [
    "import math\n",
    "\n",
    "def fact(n):\n",
    "    val = math.factorial(n)\n",
    "    return val"
   ]
  },
  {
   "cell_type": "code",
   "execution_count": 89,
   "metadata": {},
   "outputs": [
    {
     "data": {
      "text/plain": [
       "120"
      ]
     },
     "execution_count": 89,
     "metadata": {},
     "output_type": "execute_result"
    }
   ],
   "source": [
    "fact(5)"
   ]
  },
  {
   "cell_type": "code",
   "execution_count": 90,
   "metadata": {},
   "outputs": [
    {
     "data": {
      "text/plain": [
       "3628800"
      ]
     },
     "execution_count": 90,
     "metadata": {},
     "output_type": "execute_result"
    }
   ],
   "source": [
    "fact(10)"
   ]
  },
  {
   "cell_type": "code",
   "execution_count": 91,
   "metadata": {},
   "outputs": [
    {
     "data": {
      "text/plain": [
       "3628800"
      ]
     },
     "execution_count": 91,
     "metadata": {},
     "output_type": "execute_result"
    }
   ],
   "source": [
    "1*2*3*4*5*6*7*8*9*10"
   ]
  },
  {
   "cell_type": "code",
   "execution_count": 92,
   "metadata": {
    "collapsed": true
   },
   "outputs": [],
   "source": [
    "# Q9. Write a factorial function factR(n) using recurrsion."
   ]
  },
  {
   "cell_type": "code",
   "execution_count": 193,
   "metadata": {
    "collapsed": true
   },
   "outputs": [],
   "source": [
    "def factR(n):\n",
    "    if(n < 1):\n",
    "        return\n",
    "    if(n == 1):\n",
    "        return 1\n",
    "    else:\n",
    "        return n * factR(n - 1) # why these if must be here"
   ]
  },
  {
   "cell_type": "code",
   "execution_count": 194,
   "metadata": {},
   "outputs": [
    {
     "data": {
      "text/plain": [
       "120"
      ]
     },
     "execution_count": 194,
     "metadata": {},
     "output_type": "execute_result"
    }
   ],
   "source": [
    "factR(5)"
   ]
  },
  {
   "cell_type": "code",
   "execution_count": null,
   "metadata": {
    "collapsed": true
   },
   "outputs": [],
   "source": [
    "# Q10. Write a function toBinary(n) to convert \n",
    "# a decimal number into binary number using recurrsion."
   ]
  },
  {
   "cell_type": "code",
   "execution_count": 124,
   "metadata": {
    "collapsed": true
   },
   "outputs": [],
   "source": [
    "def toBiniary(n):\n",
    "    if n > 1:\n",
    "        toBiniary(n/2)\n",
    "    print(n % 2), # don't understand exactly \n",
    "    "
   ]
  },
  {
   "cell_type": "code",
   "execution_count": 128,
   "metadata": {},
   "outputs": [
    {
     "name": "stdout",
     "output_type": "stream",
     "text": [
      "1 0 1 0\n"
     ]
    }
   ],
   "source": [
    "toBiniary(10)"
   ]
  },
  {
   "cell_type": "code",
   "execution_count": 129,
   "metadata": {},
   "outputs": [
    {
     "name": "stdout",
     "output_type": "stream",
     "text": [
      "1 0 0 1 1 0 1 0 0 1 0\n"
     ]
    }
   ],
   "source": [
    "toBiniary(1234)"
   ]
  },
  {
   "cell_type": "code",
   "execution_count": 130,
   "metadata": {
    "collapsed": true
   },
   "outputs": [],
   "source": [
    "# Q11. Write your own mymap() function which works exactly like Python's built-in function map()."
   ]
  },
  {
   "cell_type": "code",
   "execution_count": 206,
   "metadata": {
    "collapsed": true
   },
   "outputs": [],
   "source": [
    "# map(fn, x) executes \"fn\" function on each item of the container object and produces a new container object \n",
    "# eg \n",
    "C = range(1, 11)\n",
    "fn = lambda x: x * 2 \n",
    "map(fn, C) \n",
    "\n",
    "def mymap(fn, C):\n",
    "    newC = [] # empty tuple \n",
    "    for x in C:\n",
    "        newC.append(fn(x))\n",
    "    return newC\n",
    "    "
   ]
  },
  {
   "cell_type": "code",
   "execution_count": 207,
   "metadata": {},
   "outputs": [
    {
     "data": {
      "text/plain": [
       "[3, 4, 5, 6]"
      ]
     },
     "execution_count": 207,
     "metadata": {},
     "output_type": "execute_result"
    }
   ],
   "source": [
    " A=[1,2,3,4]\n",
    "mymap(lambda x:x+2, A)"
   ]
  },
  {
   "cell_type": "code",
   "execution_count": null,
   "metadata": {
    "collapsed": true
   },
   "outputs": [],
   "source": [
    "# Q12. Write your own myreduce() function which works exactly like Python's built-in function reduce()."
   ]
  },
  {
   "cell_type": "code",
   "execution_count": 247,
   "metadata": {
    "collapsed": true
   },
   "outputs": [],
   "source": [
    "def myreduce(fn, C):\n",
    "    newC = 0 # don't think this is correct... \n",
    "    for x in C:\n",
    "        newC = fn(newC, x)\n",
    "    return newC "
   ]
  },
  {
   "cell_type": "code",
   "execution_count": 248,
   "metadata": {},
   "outputs": [
    {
     "data": {
      "text/plain": [
       "33"
      ]
     },
     "execution_count": 248,
     "metadata": {},
     "output_type": "execute_result"
    }
   ],
   "source": [
    "A=[1,2,33,22,11,5]\n",
    "myreduce(lambda x,y: x if x>y else y, A)"
   ]
  },
  {
   "cell_type": "code",
   "execution_count": 249,
   "metadata": {},
   "outputs": [
    {
     "data": {
      "text/plain": [
       "83"
      ]
     },
     "execution_count": 249,
     "metadata": {},
     "output_type": "execute_result"
    }
   ],
   "source": [
    "A=[10,2,33,22,11,5] \n",
    "myreduce(lambda x,y:x+y, A)"
   ]
  },
  {
   "cell_type": "code",
   "execution_count": 250,
   "metadata": {},
   "outputs": [
    {
     "data": {
      "text/plain": [
       "0"
      ]
     },
     "execution_count": 250,
     "metadata": {},
     "output_type": "execute_result"
    }
   ],
   "source": [
    "A=[1,2,33,22,11,5]\n",
    "myreduce(lambda x,y: x if x<y else y, A) # this will be a problem!!! "
   ]
  },
  {
   "cell_type": "code",
   "execution_count": null,
   "metadata": {
    "collapsed": true
   },
   "outputs": [],
   "source": [
    "# Q13. Write your own myfilter() function which works exactly like Python's built-in function filter()."
   ]
  },
  {
   "cell_type": "code",
   "execution_count": 266,
   "metadata": {
    "collapsed": true
   },
   "outputs": [],
   "source": [
    "def myfilter(fn, C):\n",
    "    newC = []  \n",
    "    for x in C:\n",
    "        if fn(x): # I see, if fn(x) ==1, add x to the list of newC\n",
    "            newC.append(x)\n",
    "    return newC "
   ]
  },
  {
   "cell_type": "code",
   "execution_count": 267,
   "metadata": {},
   "outputs": [
    {
     "data": {
      "text/plain": [
       "[10, 2, 22]"
      ]
     },
     "execution_count": 267,
     "metadata": {},
     "output_type": "execute_result"
    }
   ],
   "source": [
    "A=[10,2,33,22,11,5]\n",
    "myfilter(lambda x: x%2==0, A)"
   ]
  },
  {
   "cell_type": "code",
   "execution_count": 269,
   "metadata": {},
   "outputs": [
    {
     "data": {
      "text/plain": [
       "[33, 22, 11]"
      ]
     },
     "execution_count": 269,
     "metadata": {},
     "output_type": "execute_result"
    }
   ],
   "source": [
    "A=[10,2,33,22,11,5] \n",
    "myfilter(lambda x: x>10, A)"
   ]
  },
  {
   "cell_type": "code",
   "execution_count": 270,
   "metadata": {
    "collapsed": true
   },
   "outputs": [],
   "source": [
    "# Q14. Write list comprehensions to produce the following three simple lists"
   ]
  },
  {
   "cell_type": "code",
   "execution_count": 273,
   "metadata": {},
   "outputs": [
    {
     "data": {
      "text/plain": [
       "[0, 1, 2, 3, 4, 5, 6, 7, 8, 9, 10]"
      ]
     },
     "execution_count": 273,
     "metadata": {},
     "output_type": "execute_result"
    }
   ],
   "source": [
    "[x for x in range(11)]"
   ]
  },
  {
   "cell_type": "code",
   "execution_count": 274,
   "metadata": {},
   "outputs": [
    {
     "data": {
      "text/plain": [
       "[1, 3, 5, 7, 9, 11, 13, 15, 17, 19]"
      ]
     },
     "execution_count": 274,
     "metadata": {},
     "output_type": "execute_result"
    }
   ],
   "source": [
    "[x for x in range(1, 20, 2)]"
   ]
  },
  {
   "cell_type": "code",
   "execution_count": 275,
   "metadata": {},
   "outputs": [
    {
     "data": {
      "text/plain": [
       "[1, 6, 11, 16, 21, 26, 31, 36, 41, 46]"
      ]
     },
     "execution_count": 275,
     "metadata": {},
     "output_type": "execute_result"
    }
   ],
   "source": [
    "[x for x in range(1, 50, 5)]"
   ]
  },
  {
   "cell_type": "code",
   "execution_count": 276,
   "metadata": {
    "collapsed": true
   },
   "outputs": [],
   "source": [
    "# Q15. Write List comprehensions to produce the following Lists"
   ]
  },
  {
   "cell_type": "code",
   "execution_count": 282,
   "metadata": {},
   "outputs": [
    {
     "data": {
      "text/plain": [
       "['p', 'y', 't', 'h', 'o', 'n']"
      ]
     },
     "execution_count": 282,
     "metadata": {},
     "output_type": "execute_result"
    }
   ],
   "source": [
    "[c for c in \"python\"]"
   ]
  },
  {
   "cell_type": "code",
   "execution_count": 284,
   "metadata": {},
   "outputs": [
    {
     "data": {
      "text/plain": [
       "['x', 'xx', 'xxx', 'xxxx', 'y', 'yy', 'yyy', 'yyyy', 'z', 'zz', 'zzz', 'zzzz']"
      ]
     },
     "execution_count": 284,
     "metadata": {},
     "output_type": "execute_result"
    }
   ],
   "source": [
    "[c*i for c in \"xyz\" for i in range(1,5)]"
   ]
  },
  {
   "cell_type": "code",
   "execution_count": 289,
   "metadata": {},
   "outputs": [
    {
     "data": {
      "text/plain": [
       "['x', 'y', 'z', 'xx', 'yy', 'zz', 'xx', 'yy', 'zz', 'xxxx', 'yyyy', 'zzzz']"
      ]
     },
     "execution_count": 289,
     "metadata": {},
     "output_type": "execute_result"
    }
   ],
   "source": [
    "[i*j*k for i in range(1,3) for j in range(1,3) for k in \"xyz\"]"
   ]
  },
  {
   "cell_type": "code",
   "execution_count": 295,
   "metadata": {},
   "outputs": [
    {
     "data": {
      "text/plain": [
       "[2, 3, 4, 3, 4, 5, 4, 5, 6]"
      ]
     },
     "execution_count": 295,
     "metadata": {},
     "output_type": "execute_result"
    }
   ],
   "source": [
    "[c+i for c in range(2,5) for i in range(0,3)]"
   ]
  },
  {
   "cell_type": "code",
   "execution_count": 300,
   "metadata": {},
   "outputs": [
    {
     "data": {
      "text/plain": [
       "[[2, 3, 4, 5], [3, 4, 5, 6], [4, 5, 6, 7], [5, 6, 7, 8]]"
      ]
     },
     "execution_count": 300,
     "metadata": {},
     "output_type": "execute_result"
    }
   ],
   "source": [
    "[[c+i for c in range(2,6)] for i in range(0,4)] # wow!!! "
   ]
  },
  {
   "cell_type": "code",
   "execution_count": 312,
   "metadata": {},
   "outputs": [
    {
     "data": {
      "text/plain": [
       "[(1, 1), (2, 1), (3, 1), (1, 2), (2, 2), (3, 2), (1, 3), (2, 3), (3, 3)]"
      ]
     },
     "execution_count": 312,
     "metadata": {},
     "output_type": "execute_result"
    }
   ],
   "source": [
    "[(x, y) for y in range(1, 4) for x in range(1, 4)]"
   ]
  },
  {
   "cell_type": "code",
   "execution_count": 1,
   "metadata": {
    "collapsed": true
   },
   "outputs": [],
   "source": [
    "# Q16. Write Dictionary comprehensions to produce the following Dictionaries:"
   ]
  },
  {
   "cell_type": "code",
   "execution_count": 3,
   "metadata": {},
   "outputs": [
    {
     "data": {
      "text/plain": [
       "{1: 1, 2: 8, 3: 27, 4: 64, 5: 125, 6: 216, 7: 343, 8: 512, 9: 729}"
      ]
     },
     "execution_count": 3,
     "metadata": {},
     "output_type": "execute_result"
    }
   ],
   "source": [
    "{x:x**3 for x in range(1,10)}"
   ]
  },
  {
   "cell_type": "code",
   "execution_count": 22,
   "metadata": {},
   "outputs": [
    {
     "data": {
      "text/plain": [
       "{'a': 'a', 'b': 'bb', 'c': 'ccc', 'd': 'dddd', 'e': 'eeeee', 'f': 'ffffff'}"
      ]
     },
     "execution_count": 22,
     "metadata": {},
     "output_type": "execute_result"
    }
   ],
   "source": [
    "s=\"abcdef\"\n",
    "{ x:x*(s.index(x)+1) for x in s } # This can not be created using the similar method as list"
   ]
  },
  {
   "cell_type": "code",
   "execution_count": 23,
   "metadata": {
    "collapsed": true
   },
   "outputs": [],
   "source": [
    "# Q17. Write a function longestWord() that takes a list of words and returns the longest one."
   ]
  },
  {
   "cell_type": "code",
   "execution_count": 97,
   "metadata": {
    "collapsed": true
   },
   "outputs": [],
   "source": [
    "def longestWord(L):\n",
    "    longest = \"\"\n",
    "    for i in L:\n",
    "        if len(i) > len(longest):\n",
    "            longest = i\n",
    "    print(longest)"
   ]
  },
  {
   "cell_type": "code",
   "execution_count": 98,
   "metadata": {},
   "outputs": [
    {
     "name": "stdout",
     "output_type": "stream",
     "text": [
      "Asparagus\n"
     ]
    }
   ],
   "source": [
    "longestWord([\"Apple\", \"Apicot\", \"Asparagus\", \"Avocado\"])"
   ]
  },
  {
   "cell_type": "code",
   "execution_count": 113,
   "metadata": {
    "collapsed": true
   },
   "outputs": [],
   "source": [
    "import functools\n",
    "\n",
    "def longestWord_2(L):\n",
    "    fn = lambda x,y: x if len(x)>len(y) else y\n",
    "    longest = functools.reduce(fn, L)\n",
    "    print(longest)"
   ]
  },
  {
   "cell_type": "code",
   "execution_count": 114,
   "metadata": {},
   "outputs": [
    {
     "name": "stdout",
     "output_type": "stream",
     "text": [
      "Asparagus\n"
     ]
    }
   ],
   "source": [
    "longestWord_2([\"Apple\", \"Apicot\", \"Asparagus\", \"Avocado\"])"
   ]
  },
  {
   "cell_type": "code",
   "execution_count": 117,
   "metadata": {
    "collapsed": true
   },
   "outputs": [],
   "source": [
    "# Q18. A palindrome is a word, phrase, number, or other sequence of characters which\n",
    "# reads the same backward or forward. Allowances may be made for adjustments to capital letters,\n",
    "# punctuation, and word dividers."
   ]
  },
  {
   "cell_type": "code",
   "execution_count": 139,
   "metadata": {
    "collapsed": true
   },
   "outputs": [],
   "source": [
    "def is_palindrom(s):\n",
    "\n",
    "    # the number of char in s.\n",
    "    n = len(s)\n",
    "    print(s),\n",
    "    print(\":\"),\n",
    "    # \u0010compare the first half of s to the reverse of the second half of s\n",
    "    # omit the middle character of an odd-length string. \u0010\n",
    "    if s[:n//2] == reverse(s[n - n//2:]):\n",
    "        print(\"is a Palindrome\")\n",
    "\n",
    "def reverse(s):\n",
    "        # Return a reversed version of s.\n",
    "        rev = ''\n",
    "        # for each character in s, add that chca to the begining of rev.\n",
    "        for ch in s:\n",
    "                rev = ch + rev # pay attention to this!!! \n",
    "\n",
    "        return rev"
   ]
  },
  {
   "cell_type": "code",
   "execution_count": 140,
   "metadata": {},
   "outputs": [
    {
     "name": "stdout",
     "output_type": "stream",
     "text": [
      "kayak : is a Palindrome\n"
     ]
    }
   ],
   "source": [
    "is_palindrom(\"kayak\")"
   ]
  },
  {
   "cell_type": "code",
   "execution_count": 147,
   "metadata": {},
   "outputs": [
    {
     "name": "stdout",
     "output_type": "stream",
     "text": [
      "civic : is a Palindrome\n"
     ]
    }
   ],
   "source": [
    "is_palindrom(\"civic\")"
   ]
  },
  {
   "cell_type": "code",
   "execution_count": 148,
   "metadata": {
    "collapsed": true
   },
   "outputs": [],
   "source": [
    "# 19. A pangram is a sentence that contains all the letters of the English alphabetat \n",
    "# least once. example: \"The quick brown fox jumps over the lazy dog\".\n",
    "# Write a function to check if a sentence is a pangram or not."
   ]
  },
  {
   "cell_type": "code",
   "execution_count": 238,
   "metadata": {
    "collapsed": true
   },
   "outputs": [],
   "source": [
    "def isPangram(C):\n",
    "    C2 = C.lower()\n",
    "\n",
    "    if len(set(C2)) >= 26: \n",
    "        print(\"Yes, it is a Pangram sentence\")"
   ]
  },
  {
   "cell_type": "code",
   "execution_count": 239,
   "metadata": {
    "collapsed": true
   },
   "outputs": [],
   "source": [
    "c = \"The quick brown fox jumps over the lazy dog\""
   ]
  },
  {
   "cell_type": "code",
   "execution_count": 240,
   "metadata": {},
   "outputs": [
    {
     "name": "stdout",
     "output_type": "stream",
     "text": [
      "Yes, it is a Pangram sentence\n"
     ]
    }
   ],
   "source": [
    "isPangram(c)"
   ]
  },
  {
   "cell_type": "code",
   "execution_count": 244,
   "metadata": {
    "collapsed": true
   },
   "outputs": [],
   "source": [
    "# 20. Write a function charFreq() that takes a string and creates \n",
    "# a frequency listing of the characters contained in it using a dictionary object."
   ]
  },
  {
   "cell_type": "code",
   "execution_count": 14,
   "metadata": {
    "collapsed": true
   },
   "outputs": [],
   "source": [
    "import collections\n",
    "\n",
    "def charFreq(C):\n",
    "    letters = collections.Counter(C)\n",
    "    print(dict(letters))"
   ]
  },
  {
   "cell_type": "code",
   "execution_count": 15,
   "metadata": {},
   "outputs": [
    {
     "name": "stdout",
     "output_type": "stream",
     "text": [
      "{'s': 1, 'r': 1, 'e': 2, 'l': 1, 't': 2}\n"
     ]
    }
   ],
   "source": [
    "charFreq(\"letters\")"
   ]
  },
  {
   "cell_type": "code",
   "execution_count": 16,
   "metadata": {
    "collapsed": true
   },
   "outputs": [],
   "source": [
    "# 21. Using random module, generate 10,000 numbers between 1 and 5. Find the number for \n",
    "# which largest numbers generated. Also create a dictionary with key-values where value > 2000, \n",
    "# using dictionary comprehensions."
   ]
  },
  {
   "cell_type": "code",
   "execution_count": 19,
   "metadata": {},
   "outputs": [
    {
     "name": "stdout",
     "output_type": "stream",
     "text": [
      "{1: 2058, 2: 1983, 3: 1980, 4: 1959, 5: 2020}\n"
     ]
    }
   ],
   "source": [
    "from random import randint\n",
    "import random\n",
    "random.seed(1)\n",
    "tmp=[randint(1,5) for p in range(0,10000)]\n",
    "len(tmp)\n",
    "charFreq(tmp)\n"
   ]
  },
  {
   "cell_type": "code",
   "execution_count": null,
   "metadata": {},
   "outputs": [],
   "source": []
  },
  {
   "cell_type": "code",
   "execution_count": null,
   "metadata": {
    "collapsed": true
   },
   "outputs": [],
   "source": []
  },
  {
   "cell_type": "code",
   "execution_count": null,
   "metadata": {
    "collapsed": true
   },
   "outputs": [],
   "source": []
  }
 ],
 "metadata": {
  "kernelspec": {
   "display_name": "Python 2",
   "language": "python",
   "name": "python2"
  },
  "language_info": {
   "codemirror_mode": {
    "name": "ipython",
    "version": 2
   },
   "file_extension": ".py",
   "mimetype": "text/x-python",
   "name": "python",
   "nbconvert_exporter": "python",
   "pygments_lexer": "ipython2",
   "version": "2.7.13"
  }
 },
 "nbformat": 4,
 "nbformat_minor": 2
}
